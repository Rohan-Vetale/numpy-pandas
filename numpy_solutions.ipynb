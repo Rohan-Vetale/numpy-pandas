{
 "cells": [
  {
   "cell_type": "markdown",
   "metadata": {},
   "source": [
    "**1. Write a Python program to convert a list of numeric value into a one-dimensional\n",
    "NumPy array.**\n",
    "Expected Output:\n",
    "Original List: [12.23, 13.32, 100, 36.32]\n",
    "One-dimensional numpy array: [ 12.23 13.32 100. 36.32]\n"
   ]
  },
  {
   "cell_type": "code",
   "execution_count": 3,
   "metadata": {},
   "outputs": [
    {
     "name": "stdout",
     "output_type": "stream",
     "text": [
      "Original List is :  [12.23, 13.32, 100, 36.32]\n",
      "One Daimentinal Array :  [ 12.23  13.32 100.    36.32]\n"
     ]
    }
   ],
   "source": [
    "import numpy as np \n",
    "l = [12.23, 13.32, 100, 36.32]\n",
    "arr= np.array(l)\n",
    "print(\"Original List is : \",l)\n",
    "print(\"One Daimentinal Array : \",arr)\n"
   ]
  },
  {
   "cell_type": "markdown",
   "metadata": {},
   "source": [
    "**2. Create a 3x3 matrix with values ranging from 2 to 10.\n",
    "Expected Output:**\n",
    "[[ 2 3 4]\n",
    "[ 5 6 7]\n",
    "[ 8 9 10]]\n"
   ]
  },
  {
   "cell_type": "code",
   "execution_count": 4,
   "metadata": {},
   "outputs": [
    {
     "name": "stdout",
     "output_type": "stream",
     "text": [
      "[[ 2  3  4]\n",
      " [ 5  6  7]\n",
      " [ 8  9 10]]\n"
     ]
    }
   ],
   "source": [
    "matrix = np.arange(2,11).reshape(3,3)\n",
    "# print(np.arange(2,11))\n",
    "print(matrix)"
   ]
  },
  {
   "cell_type": "markdown",
   "metadata": {},
   "source": [
    "**3. Write a Python program to create a null vector of size 10 and update sixth value to 11.**\n",
    "[ 0. 0. 0. 0. 0. 0. 0. 0. 0. 0.]\n",
    "Update sixth value to 11\n",
    "[ 0. 0. 0. 0. 0. 0. 11. 0. 0. 0.]"
   ]
  },
  {
   "cell_type": "code",
   "execution_count": 5,
   "metadata": {},
   "outputs": [
    {
     "name": "stdout",
     "output_type": "stream",
     "text": [
      "[ 0.  0.  0.  0.  0. 11.  0.  0.  0.  0.]\n"
     ]
    }
   ],
   "source": [
    "null_vector = np.zeros(10)\n",
    "# print(np.zeros(10))\n",
    "# print(np.ones(10))\n",
    "null_vector[5]=11\n",
    "print(null_vector)"
   ]
  },
  {
   "cell_type": "markdown",
   "metadata": {},
   "source": [
    "**4. Write a Python program to reverse an array (first element becomes last).\n",
    "Original array:**\n",
    "[12 13 14 15 16 17 18 19 20 21 22 23 24 25 26 27 28 29 30 31 32 33 34 35 36 37]\n",
    "Reverse array:\n",
    "[37 36 35 34 33 32 31 30 29 28 27 26 25 24 23 22 21 20 19 18 17 16 15 14 13 12]\n"
   ]
  },
  {
   "cell_type": "code",
   "execution_count": 6,
   "metadata": {},
   "outputs": [
    {
     "name": "stdout",
     "output_type": "stream",
     "text": [
      "Original Array : [12 13 14 15 16 17 18 19 20 21 22 23 24 25 26 27 28 29 30 31 32 33 34 35\n",
      " 36 37]\n",
      "reversed Array : [37 36 35 34 33 32 31 30 29 28 27 26 25 24 23 22 21 20 19 18 17 16 15 14\n",
      " 13 12]\n"
     ]
    }
   ],
   "source": [
    "original_arr = np.arange(12,38)\n",
    "reversed_arr = np.flip(original_arr)\n",
    "print(f\"Original Array : {original_arr}\")\n",
    "print(f\"reversed Array : {reversed_arr}\")"
   ]
  },
  {
   "cell_type": "markdown",
   "metadata": {},
   "source": [
    "**5. Write a Python program to create a 2d array with 1 on the border and 0 inside.\n",
    "Expected Output:**\n",
    "Original array:\n",
    "[[ 1. 1. 1. 1. 1.]\n",
    "[ 1. 1. 1. 1. 1.]\n",
    "[ 1. 1. 1. 1. 1.]\n",
    "[ 1. 1. 1. 1. 1.]\n",
    "[ 1. 1. 1. 1. 1.]]\n",
    "1 on the border and 0 inside in the array\n",
    "[[ 1. 1. 1. 1. 1.]\n",
    "[ 1. 0. 0. 0. 1.]\n",
    "[ 1. 0. 0. 0. 1.]\n",
    "[ 1. 0. 0. 0. 1.]\n",
    "[ 1. 1. 1. 1. 1.]]"
   ]
  },
  {
   "cell_type": "code",
   "execution_count": 7,
   "metadata": {},
   "outputs": [
    {
     "name": "stdout",
     "output_type": "stream",
     "text": [
      "Original Array : [12 13 14 15 16 17 18 19 20 21 22 23 24 25 26 27 28 29 30 31 32 33 34 35\n",
      " 36 37]\n",
      "reversed Array : [37 36 35 34 33 32 31 30 29 28 27 26 25 24 23 22 21 20 19 18 17 16 15 14\n",
      " 13 12]\n"
     ]
    }
   ],
   "source": [
    "original_arr = np.arange(12,38)\n",
    "reversed_arr = np.flip(original_arr)\n",
    "print(f\"Original Array : {original_arr}\")\n",
    "print(f\"reversed Array : {reversed_arr}\")"
   ]
  },
  {
   "cell_type": "code",
   "execution_count": 8,
   "metadata": {},
   "outputs": [
    {
     "name": "stdout",
     "output_type": "stream",
     "text": [
      "[[1. 1. 1. 1. 1.]\n",
      " [1. 0. 0. 0. 1.]\n",
      " [1. 0. 0. 0. 1.]\n",
      " [1. 0. 0. 0. 1.]\n",
      " [1. 1. 1. 1. 1.]]\n"
     ]
    }
   ],
   "source": [
    "original_arr = np.ones((5,5))\n",
    "original_arr[1:-1,1:-1] = 0\n",
    "print(original_arr)"
   ]
  },
  {
   "cell_type": "markdown",
   "metadata": {},
   "source": [
    "**6. Write a Python program to add a border (filled with 0's) around an existing array.\n",
    "Expected Output:**\n",
    "Original array:\n",
    "[[ 1. 1. 1.]\n",
    "[ 1. 1. 1.]\n",
    "[ 1. 1. 1.]]\n",
    "1 on the border and 0 inside in the array\n",
    "[[ 0. 0. 0. 0. 0.]\n",
    "[ 0. 1. 1. 1. 0.]\n",
    "[ 0. 1. 1. 1. 0.]\n",
    "[ 0. 1. 1. 1. 0.]\n",
    "[ 0. 0. 0. 0. 0.]]"
   ]
  },
  {
   "cell_type": "code",
   "execution_count": 9,
   "metadata": {},
   "outputs": [
    {
     "name": "stdout",
     "output_type": "stream",
     "text": [
      "[[1. 1. 1.]\n",
      " [1. 1. 1.]\n",
      " [1. 1. 1.]]\n",
      "[[0. 0. 0. 0. 0.]\n",
      " [0. 1. 1. 1. 0.]\n",
      " [0. 1. 1. 1. 0.]\n",
      " [0. 1. 1. 1. 0.]\n",
      " [0. 0. 0. 0. 0.]]\n"
     ]
    }
   ],
   "source": [
    "arr = np.ones((3,3))\n",
    "arr_with_border = np.pad(arr,pad_width=1,mode='constant',constant_values=0)\n",
    "print(arr)\n",
    "print(arr_with_border)"
   ]
  },
  {
   "cell_type": "markdown",
   "metadata": {},
   "source": [
    "**7. Write a Python program to create a 8x8 matrix and fill it with a checkerboard pattern.\n",
    "Checkerboard pattern:**\n",
    "[[0 1 0 1 0 1 0 1]\n",
    "[1 0 1 0 1 0 1 0]\n",
    "[0 1 0 1 0 1 0 1]\n",
    "[1 0 1 0 1 0 1 0]\n",
    "[0 1 0 1 0 1 0 1]\n",
    "[1 0 1 0 1 0 1 0]\n",
    "[0 1 0 1 0 1 0 1]\n",
    "[1 0 1 0 1 0 1 0]]\n"
   ]
  },
  {
   "cell_type": "code",
   "execution_count": 10,
   "metadata": {},
   "outputs": [
    {
     "name": "stdout",
     "output_type": "stream",
     "text": [
      "[[0 1 0 1 0 1 0 1]\n",
      " [1 0 1 0 1 0 1 0]\n",
      " [0 1 0 1 0 1 0 1]\n",
      " [1 0 1 0 1 0 1 0]\n",
      " [0 1 0 1 0 1 0 1]\n",
      " [1 0 1 0 1 0 1 0]\n",
      " [0 1 0 1 0 1 0 1]\n",
      " [1 0 1 0 1 0 1 0]]\n"
     ]
    }
   ],
   "source": [
    "checkboard = np.zeros((8,8),dtype=int)\n",
    "checkboard[1::2,::2] = 1\n",
    "checkboard[::2,1::2] = 1\n",
    "print(checkboard)\n"
   ]
  },
  {
   "cell_type": "markdown",
   "metadata": {},
   "source": [
    "**8. Write a Python program to convert a list and tuple into arrays.\n",
    "List to array:**\n",
    "[1 2 3 4 5 6 7 8]\n",
    "Tuple to array:\n",
    "[[8 4 6]\n",
    "[1 2 3]]\n"
   ]
  },
  {
   "cell_type": "code",
   "execution_count": 11,
   "metadata": {},
   "outputs": [
    {
     "name": "stdout",
     "output_type": "stream",
     "text": [
      "[1 2 3 4 5 6 7 8]\n",
      "[[8 4 6]\n",
      " [1 2 3]]\n"
     ]
    }
   ],
   "source": [
    "list_value = [1,2,3,4,5,6,7,8]\n",
    "tuple_value = ((8,4,6),(1,2,3,))\n",
    "arr_list = np.array(list_value)\n",
    "arr_tuple = np.array(tuple_value)\n",
    "print(arr_list)\n",
    "print(arr_tuple)"
   ]
  },
  {
   "cell_type": "markdown",
   "metadata": {},
   "source": [
    "**9. Write a Python program to append values to the end of an array.\n",
    "Expected Output:**\n",
    "Original array:\n",
    "[10, 20, 30]\n",
    "After append values to the end of the array:\n",
    "[10 20 30 40 50 60 70 80 90]"
   ]
  },
  {
   "cell_type": "code",
   "execution_count": 12,
   "metadata": {},
   "outputs": [
    {
     "name": "stdout",
     "output_type": "stream",
     "text": [
      "[10 20 30 40 50 60 70 80 90]\n"
     ]
    }
   ],
   "source": [
    "arr =np.array( [10,20,30])\n",
    "values_to_append=np.array([40,50,60,70,80,90])\n",
    "arr_append = np.append(arr,values_to_append)\n",
    "print(arr_append)"
   ]
  },
  {
   "cell_type": "markdown",
   "metadata": {},
   "source": [
    "**10. Write a Python program to find the real and imaginary parts of an array of complex\n",
    "numbers.**\n",
    "Expected Output:\n",
    "Original array [ 1.00000000+0.j 0.70710678+0.70710678j]\n",
    "Real part of the array:\n",
    "[ 1. 0.70710678]\n",
    "Imaginary part of the array:\n",
    "[ 0. 0.70710678]"
   ]
  },
  {
   "cell_type": "code",
   "execution_count": 13,
   "metadata": {},
   "outputs": [
    {
     "name": "stdout",
     "output_type": "stream",
     "text": [
      "Real part of array [1.         0.70710678]\n",
      "Imaginary Part of array [0.         0.70710678]\n"
     ]
    }
   ],
   "source": [
    "original_arr =np.array([ 1.00000000+0.j, 0.70710678+0.70710678j]) \n",
    "real_part = np.real(original_arr)\n",
    "imaginary_part = np.imag(original_arr)\n",
    "print(f\"Real part of array {real_part}\")\n",
    "print(f\"Imaginary Part of array {imaginary_part}\")"
   ]
  },
  {
   "cell_type": "markdown",
   "metadata": {},
   "source": [
    "**11. Write a Python program to find the number of elements of an array, length of one\n",
    "array element in bytes and total bytes consumed by the elements.**\n",
    "Expected Output:\n",
    "Size of the array: 3\n",
    "Length of one array element in bytes: 8\n",
    "Total bytes consumed by the elements of the array: 24\n"
   ]
  },
  {
   "cell_type": "code",
   "execution_count": 16,
   "metadata": {},
   "outputs": [
    {
     "name": "stdout",
     "output_type": "stream",
     "text": [
      "Size of array 3\n",
      "Length of one element in bytes : 4\n",
      "Total Bytes : 12\n"
     ]
    }
   ],
   "source": [
    "arr = np.array([1,2,3])\n",
    "size_of_array = arr.size\n",
    "bytes_per_element = arr.itemsize\n",
    "total_bytes = arr.nbytes\n",
    "print(f\"Size of array {size_of_array}\")\n",
    "print(f\"Length of one element in bytes : {bytes_per_element}\")\n",
    "print(f\"Total Bytes : {total_bytes}\")"
   ]
  },
  {
   "cell_type": "markdown",
   "metadata": {},
   "source": [
    "**12. Write a Python program to find common values between two arrays.\n",
    "Expected Output:**\n",
    "Array1: [ 0 10 20 40 60]\n",
    "Array2: [10, 30, 40]\n",
    "Common values between two arrays:\n",
    "[10 40]\n"
   ]
  },
  {
   "cell_type": "code",
   "execution_count": 17,
   "metadata": {},
   "outputs": [
    {
     "name": "stdout",
     "output_type": "stream",
     "text": [
      "Common values [10 40]\n"
     ]
    }
   ],
   "source": [
    "arr1 = np.array([0,10,20,40,60])\n",
    "arr2 = np.array([10,30,40])\n",
    "common_values = np.intersect1d(arr1,arr2)\n",
    "print(f\"Common values {common_values}\")"
   ]
  },
  {
   "cell_type": "markdown",
   "metadata": {},
   "source": [
    "**13. Write a Python program to find the set difference of two arrays. The set difference\n",
    "will return the sorted, unique values in array1 that are not in array2.**\n",
    "Expected Output:\n",
    "Array1: [ 0 10 20 40 60 80]\n",
    "Array2: [10, 30, 40, 50, 70, 90]\n",
    "Set difference between two arrays:\n",
    "[ 0 20 60 80]"
   ]
  },
  {
   "cell_type": "code",
   "execution_count": 18,
   "metadata": {},
   "outputs": [
    {
     "name": "stdout",
     "output_type": "stream",
     "text": [
      "Set difference between Array1 and Array2 is [1 2 3]\n"
     ]
    }
   ],
   "source": [
    "arr1 = np.array([1,2,3,4,5])\n",
    "arr2 = np.array([4,5,6,7,8])\n",
    "set_difference = np.setdiff1d(arr1,arr2) # not present in the second arrays elements of first array \n",
    "print(f\"Set difference between Array1 and Array2 is {set_difference}\")"
   ]
  },
  {
   "cell_type": "markdown",
   "metadata": {},
   "source": [
    "**14. Write a Python program to find the set exclusive-or of two arrays. Set exclusive-or\n",
    "will return the sorted, unique values that are in only one (not both) of the input arrays.**\n",
    "Array1: [ 0 10 20 40 60 80]\n",
    "Array2: [10, 30, 40, 50, 70]\n",
    "Unique values that are in only one (not both) of the input arrays:\n",
    "[ 0 20 30 50 60 70 80]"
   ]
  },
  {
   "cell_type": "code",
   "execution_count": 21,
   "metadata": {},
   "outputs": [
    {
     "name": "stdout",
     "output_type": "stream",
     "text": [
      "Unique values that are in only one (not both) of the input arrays : [ 0 20 50 60 70 80]\n"
     ]
    }
   ],
   "source": [
    "arr1 = np.array([0,10,20,30,40,60,80])\n",
    "arr2 = np.array([10,30,40,50,70])\n",
    "set_xor = np.setxor1d(arr1,arr2)\n",
    "print(f\"Unique values that are in only one (not both) of the input arrays : {set_xor}\"  )"
   ]
  },
  {
   "cell_type": "markdown",
   "metadata": {},
   "source": [
    "**15. Write a Python program compare two arrays using numpy.\n",
    "Array a: [1 2]\n",
    "Array b: [4 5]**\n",
    "a > b\n",
    "[False False]\n",
    "a >= b\n",
    "[False False]\n",
    "a < b\n",
    "[ True True]\n",
    "a <= b\n",
    "[ True True]"
   ]
  },
  {
   "cell_type": "code",
   "execution_count": 20,
   "metadata": {},
   "outputs": [
    {
     "name": "stdout",
     "output_type": "stream",
     "text": [
      "a>b : [False False]\n",
      "a>=b : [False False]\n",
      "a<b : [ True  True]\n",
      "a<=b : [ True  True]\n"
     ]
    }
   ],
   "source": [
    "a = np.array([1,2])\n",
    "b = np.array([4,5])\n",
    "\n",
    "comparison_gt = np.greater(a,b)\n",
    "comparison_gte = np.greater_equal(a,b)\n",
    "comparison_lt = np.less(a,b)\n",
    "comparison_lte = np.less_equal(a,b)\n",
    "print(f\"a>b : {comparison_gt}\")\n",
    "print(f\"a>=b : {comparison_gte}\")\n",
    "print(f\"a<b : {comparison_lt}\")\n",
    "print(f\"a<=b : {comparison_lte}\")"
   ]
  },
  {
   "cell_type": "markdown",
   "metadata": {},
   "source": [
    "**15. Write a Python program to save a NumPy array to a text file.**"
   ]
  },
  {
   "cell_type": "code",
   "execution_count": 22,
   "metadata": {},
   "outputs": [
    {
     "name": "stdout",
     "output_type": "stream",
     "text": [
      "Original Array : [[1 2 3]\n",
      " [4 5 6]]\n",
      "Loaded array : [[1. 2. 3.]\n",
      " [4. 5. 6.]]\n"
     ]
    }
   ],
   "source": [
    "l = np.arange(1,7).reshape(2,3)\n",
    "arr = np.array(l)\n",
    "# save array to text files\n",
    "np.savetxt('array.txt',arr)\n",
    "# load array from the text file\n",
    "load_arr = np.loadtxt('array.txt')\n",
    "print(f\"Original Array : {arr}\")\n",
    "print(f\"Loaded array : {load_arr}\")"
   ]
  },
  {
   "cell_type": "markdown",
   "metadata": {},
   "source": [
    "**16. Write a Python program to create a contiguous flattened array.**\n",
    "Original array:\n",
    "[[10 20 30]\n",
    "[20 40 50]]\n",
    "New flattened array:\n",
    "[10 20 30 20 40 50]\n"
   ]
  },
  {
   "cell_type": "code",
   "execution_count": 23,
   "metadata": {},
   "outputs": [
    {
     "name": "stdout",
     "output_type": "stream",
     "text": [
      "Flattend array [10 20 30 20 40 50 12 25 26]\n"
     ]
    }
   ],
   "source": [
    "arr = np.array([[10,20,30],[20,40,50],[12,25,26]])\n",
    "#flatten the array\n",
    "flattened_array = arr.flatten() # 2d to 1d arrays \n",
    "print(f\"Flattend array {flattened_array}\")"
   ]
  },
  {
   "cell_type": "markdown",
   "metadata": {},
   "source": [
    "**17. Write a Python program to change the data type of an array.**\n",
    "Expected Output:\n",
    "[[ 2 4 6]\n",
    "[ 6 8 10]]\n",
    "Data type of the array x is: int32\n",
    "New Type: float64\n",
    "[[ 2. 4. 6.]\n",
    "[ 6. 8. 10.]]\n"
   ]
  },
  {
   "cell_type": "code",
   "execution_count": 24,
   "metadata": {},
   "outputs": [
    {
     "name": "stdout",
     "output_type": "stream",
     "text": [
      "Original array [[ 2  4  6]\n",
      " [ 6  8 10]]\n",
      "Data types of the array : int32\n",
      "New type array is : float64\n"
     ]
    }
   ],
   "source": [
    "arr = np.array([[2,4,6],[6,8,10]])\n",
    "print(f\"Original array {arr}\")\n",
    "new_arr = arr.astype(np.float64)\n",
    "print(f\"Data types of the array : {arr.dtype}\")\n",
    "print(f\"New type array is : {new_arr.dtype}\")"
   ]
  },
  {
   "cell_type": "markdown",
   "metadata": {},
   "source": [
    "**18. Write a Python program to create a 3-D array with ones on a diagonal and zeros\n",
    "elsewhere.**\n",
    "Expected Output:\n",
    "[[ 1. 0. 0.]\n",
    "[ 0. 1. 0.]\n",
    "[ 0. 0. 1.]]"
   ]
  },
  {
   "cell_type": "code",
   "execution_count": 25,
   "metadata": {},
   "outputs": [
    {
     "name": "stdout",
     "output_type": "stream",
     "text": [
      "Diagonal matrix : \n",
      "[[1. 0. 0.]\n",
      " [0. 1. 0.]\n",
      " [0. 0. 1.]]\n"
     ]
    }
   ],
   "source": [
    "arr = np.eye(3)\n",
    "print(\"Diagonal matrix : \")\n",
    "print(arr)"
   ]
  },
  {
   "cell_type": "markdown",
   "metadata": {},
   "source": [
    "**19. Write a Python program to create an array which looks like below array.**\n",
    "Expected Output:\n",
    "[[ 0. 0. 0.]\n",
    "[ 1. 0. 0.]\n",
    "[ 1. 1. 0.]\n",
    "[ 1. 1. 1.]]\n"
   ]
  },
  {
   "cell_type": "code",
   "execution_count": 37,
   "metadata": {},
   "outputs": [
    {
     "name": "stdout",
     "output_type": "stream",
     "text": [
      "Output is :\n",
      "[[0. 0. 0. 0.]\n",
      " [1. 0. 0. 0.]\n",
      " [1. 1. 0. 0.]\n",
      " [1. 1. 1. 0.]]\n"
     ]
    }
   ],
   "source": [
    "arr = np.tri(4,4,-1)   # (row , col, value)\n",
    "print(\"Output is :\" )\n",
    "print(arr)"
   ]
  },
  {
   "cell_type": "markdown",
   "metadata": {},
   "source": [
    "**20. Write a Python program to concatenate two 2-dimensional arrays.**\n",
    "Expected Output:\n",
    "Sample arrays: ([[0, 1, 3], [5, 7, 9]], [[0, 2, 4], [6, 8, 10]])\n",
    "Expected Output:\n",
    "[[ 0 1 3 0 2 4]\n",
    "[ 5 7 9 6 8 10]]\n"
   ]
  },
  {
   "cell_type": "code",
   "execution_count": 27,
   "metadata": {},
   "outputs": [
    {
     "name": "stdout",
     "output_type": "stream",
     "text": [
      "Output is : \n",
      "[[ 0  1  3]\n",
      " [ 5  7  9]\n",
      " [ 0  2  4]\n",
      " [ 6  8 10]]\n",
      "\n",
      " [[ 0  1  3  0  2  4]\n",
      " [ 5  7  9  6  8 10]]\n"
     ]
    }
   ],
   "source": [
    "arr1 = np.array([[0, 1, 3], [5, 7, 9]])\n",
    "arr2 = np.array([[0, 2, 4], [6, 8, 10]])\n",
    "#concatinate the array\n",
    "con_arr = np.concatenate((arr1,arr2),axis=0)  # added the rows  or  y axis \n",
    "con_arr1 = np.concatenate((arr1,arr2),axis=1) # added new columns in the row and x-axis \n",
    "print(\"Output is : \")\n",
    "print(con_arr)\n",
    "print(\"\\n\",con_arr1)"
   ]
  },
  {
   "cell_type": "markdown",
   "metadata": {},
   "source": [
    "**21. Write a Python program to make an array immutable (read-only).**\n",
    "Expected Output:\n",
    "Test the array is read-only or not:\n",
    "Try to change the value of the first element:\n",
    "Traceback (most recent call last):\n",
    "File \"19236bd0-0bd9-11e7-a232-c706d0968eb6.py\", line 6, in\n",
    "x[0] = 1\n",
    "ValueError: assignment destination is read-only\n",
    "\n"
   ]
  },
  {
   "cell_type": "code",
   "execution_count": 59,
   "metadata": {},
   "outputs": [
    {
     "name": "stdout",
     "output_type": "stream",
     "text": [
      "Test array is read only or not :\n",
      "Try to change the value of the first element : \n",
      "Cannot make changes to arr beacause- assignment destination is read-only\n"
     ]
    }
   ],
   "source": [
    "arr = np.array([1,2,3])\n",
    "#make array read only\n",
    "arr.flags.writeable = False\n",
    "print(\"Test array is read only or not :\")\n",
    "print(\"Try to change the value of the first element : \")\n",
    "try:\n",
    "    arr[0] = 10\n",
    "except Exception as ex:\n",
    "    print(f\"Cannot make changes to arr beacause- {ex}\")"
   ]
  },
  {
   "cell_type": "markdown",
   "metadata": {},
   "source": [
    "**22. Write a Python program to create an array of (3, 4) shape, multiply every element\n",
    "value by 3 and display the new array.**\n",
    "Expected Output:\n",
    "Original array elements:\n",
    "[[ 0 1 2 3]\n",
    "[ 4 5 6 7]\n",
    "[ 8 9 10 11]]\n",
    "New array elements:\n",
    "[[ 0 3 6 9]\n",
    "[12 15 18 21]\n",
    "[24 27 30 33]]\n"
   ]
  },
  {
   "cell_type": "code",
   "execution_count": 5,
   "metadata": {},
   "outputs": [
    {
     "name": "stdout",
     "output_type": "stream",
     "text": [
      "original array is :\n",
      "[[ 0  1  2  3]\n",
      " [ 4  5  6  7]\n",
      " [ 8  9 10 11]]\n",
      "New array ele : \n",
      "[[ 0  3  6  9]\n",
      " [12 15 18 21]\n",
      " [24 27 30 33]]\n"
     ]
    }
   ],
   "source": [
    "l = np.arange(0,12).reshape(3,4)\n",
    "arr = np.array(l)\n",
    "new_arr = arr*3\n",
    "print(f\"original array is :\")\n",
    "print(arr)\n",
    "print(f\"New array ele : \")\n",
    "print(new_arr)"
   ]
  },
  {
   "cell_type": "markdown",
   "metadata": {},
   "source": [
    "**23. Write a Python program to convert a NumPy array into Python list structure.**\n",
    "Expected Output:\n",
    "Original array elements:\n",
    "[[0 1]\n",
    "[2 3]\n",
    "[4 5]]\n",
    "Array to list:\n",
    "[[0, 1], [2, 3], [4, 5]]\n"
   ]
  },
  {
   "cell_type": "code",
   "execution_count": 1,
   "metadata": {},
   "outputs": [
    {
     "name": "stdout",
     "output_type": "stream",
     "text": [
      "[[0 1]\n",
      " [2 3]\n",
      " [4 5]]\n",
      "Array is : \n",
      " [[0 1]\n",
      " [2 3]\n",
      " [4 5]]\n",
      "Array to list  : \n",
      " [[0, 1], [2, 3], [4, 5]]\n"
     ]
    }
   ],
   "source": [
    "import numpy as np\n",
    "l = np.arange(0,6).reshape(3,2)\n",
    "print(l)\n",
    "arr = np.array(l)\n",
    "list_structure = arr.tolist()\n",
    "print(f\"Array is : \\n {arr}\")\n",
    "print(f\"Array to list  : \\n {list_structure}\")"
   ]
  },
  {
   "cell_type": "markdown",
   "metadata": {},
   "source": [
    "**24. Write a Python program to convert a NumPy array into Python list structure.**\n",
    "Expected Output:\n",
    "Original array elements:\n",
    "[ 0.26153123 0.52760141 0.5718299 0.5927067 0.7831874 0.69746349\n",
    "0.35399976 0.99469633 0.0694458 0.54711478]\n",
    "Print array values with precision 3:\n",
    "[ 0.262 0.528 0.572 0.593 0.783 0.697 0.354 0.995 0.069 0.547]\n"
   ]
  },
  {
   "cell_type": "code",
   "execution_count": 2,
   "metadata": {},
   "outputs": [
    {
     "name": "stdout",
     "output_type": "stream",
     "text": [
      "Original array elements:\n",
      "[0.26153123 0.52760141 0.5718299  0.5927067  0.7831874  0.69746349\n",
      " 0.35399976 0.99469633 0.0694458  0.54711478]\n",
      "Print array values with precision 3:\n",
      "[0.262, 0.528, 0.572, 0.593, 0.783, 0.697, 0.354, 0.995, 0.069, 0.547]\n"
     ]
    }
   ],
   "source": [
    "import numpy as np\n",
    "\n",
    "# Create the original NumPy array\n",
    "array = np.array([0.26153123, 0.52760141, 0.5718299, 0.5927067, 0.7831874, 0.69746349,\n",
    "                  0.35399976, 0.99469633, 0.0694458, 0.54711478])\n",
    "\n",
    "# Print the original array elements\n",
    "print(\"Original array elements:\")\n",
    "print(array)\n",
    "\n",
    "# Convert the NumPy array into a Python list\n",
    "list_structure = array.tolist()\n",
    "\n",
    "# Print the array values with precision 3\n",
    "print(\"Print array values with precision 3:\")\n",
    "list_with_precision = [round(x, 3) for x in list_structure]\n",
    "print(list_with_precision)"
   ]
  },
  {
   "cell_type": "markdown",
   "metadata": {},
   "source": [
    "**25. Write a Python program to suppresses the use of scientific notation for small\n",
    "numbers in numpy array.**\n",
    "Expected Output:\n",
    "Original array elements:\n",
    "[ 1.60000000e-10 1.60000000e+00 1.20000000e+03 2.35000000e-01]\n",
    "Print array values with precision 3:\n",
    "[ 0. 1.6 1200. 0.235]"
   ]
  },
  {
   "cell_type": "code",
   "execution_count": 3,
   "metadata": {},
   "outputs": [
    {
     "name": "stdout",
     "output_type": "stream",
     "text": [
      "Original array elements:\n",
      "[1.60e-10 1.60e+00 1.20e+03 2.35e-01]\n",
      "Print array values with precision 3:\n",
      "[   0.       1.6   1200.       0.235]\n"
     ]
    }
   ],
   "source": [
    "# Create the original array\n",
    "array = np.array([1.60000000e-10, 1.60000000e+00, 1.20000000e+03, 2.35000000e-01])\n",
    "\n",
    "# Print the original array elements\n",
    "print(\"Original array elements:\")\n",
    "print(array)\n",
    "\n",
    "# Set the printing options to suppress scientific notation for small numbers\n",
    "\n",
    "np.set_printoptions(suppress=True, precision=3)\n",
    "\n",
    "# Print the array values with precision 3\n",
    "print(\"Print array values with precision 3:\")\n",
    "print(array)"
   ]
  },
  {
   "cell_type": "markdown",
   "metadata": {},
   "source": [
    "**26. Write a Python program to how to add an extra column to an numpy array.**\n",
    "Expected Output:\n",
    "[[ 10 20 30 100]\n",
    "[ 40 50 60 200]]\n"
   ]
  },
  {
   "cell_type": "code",
   "execution_count": 4,
   "metadata": {},
   "outputs": [
    {
     "name": "stdout",
     "output_type": "stream",
     "text": [
      "[[ 10  20  30 100]\n",
      " [ 40  50  60 200]]\n"
     ]
    }
   ],
   "source": [
    "import numpy as np\n",
    "\n",
    "# Create the original NumPy array\n",
    "array = np.array([[10, 20, 30],\n",
    "                  [40, 50, 60]])\n",
    "\n",
    "# Create the extra column\n",
    "extra_column = np.array([100, 200])\n",
    "\n",
    "# Add the extra column to the original array\n",
    "new_array = np.hstack((array, np.expand_dims(extra_column, axis=1)))\n",
    "\n",
    "# Print the resulting array\n",
    "print(new_array)\n"
   ]
  },
  {
   "cell_type": "markdown",
   "metadata": {},
   "source": [
    "**27. Write a Python program to remove specific elements in a numpy array.**\n",
    "Expected Output:\n",
    "Original array:\n",
    "[ 10 20 30 40 50 60 70 80 90 100]\n",
    "Delete first, fourth and fifth elements:\n",
    "[ 20 30 60 70 80 90 100]"
   ]
  },
  {
   "cell_type": "code",
   "execution_count": 5,
   "metadata": {},
   "outputs": [
    {
     "name": "stdout",
     "output_type": "stream",
     "text": [
      "[ 10  20  30  40  50  60  70  80  90 100]\n",
      "[ 20  30  70  80  90 100]\n"
     ]
    }
   ],
   "source": [
    "import numpy as np\n",
    "\n",
    "# Create the original NumPy array\n",
    "array = np.array([10, 20, 30, 40, 50, 60, 70, 80, 90, 100])\n",
    "\n",
    "# Specify the indices of the elements to be deleted\n",
    "indices = [0, 3, 4,5]\n",
    "\n",
    "# Remove the elements at the specified indices\n",
    "new_array = np.delete(array, indices)\n",
    "print(array)\n",
    "# Print the resulting array\n",
    "print(new_array)"
   ]
  },
  {
   "cell_type": "code",
   "execution_count": null,
   "metadata": {},
   "outputs": [],
   "source": []
  }
 ],
 "metadata": {
  "kernelspec": {
   "display_name": "Python 3",
   "language": "python",
   "name": "python3"
  },
  "language_info": {
   "codemirror_mode": {
    "name": "ipython",
    "version": 3
   },
   "file_extension": ".py",
   "mimetype": "text/x-python",
   "name": "python",
   "nbconvert_exporter": "python",
   "pygments_lexer": "ipython3",
   "version": "3.10.4"
  }
 },
 "nbformat": 4,
 "nbformat_minor": 2
}
